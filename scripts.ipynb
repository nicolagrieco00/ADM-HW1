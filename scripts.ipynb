{
 "cells": [
  {
   "cell_type": "markdown",
   "id": "e7fe21f4-1aa4-41c9-b6d9-e8529fe153f1",
   "metadata": {},
   "source": [
    "# Homework 1"
   ]
  },
  {
   "cell_type": "markdown",
   "id": "3ddb0c4c-d8c1-4636-bbf7-9b316dff9bc6",
   "metadata": {},
   "source": [
    "## Problem 1"
   ]
  },
  {
   "cell_type": "markdown",
   "id": "aacbf9bd-0089-4b12-8335-eeaa05c6eedd",
   "metadata": {},
   "source": [
    "## - INTRODUCTION"
   ]
  },
  {
   "cell_type": "markdown",
   "id": "f54feb21-d3fc-48f9-9b9e-c1eb690fc8a0",
   "metadata": {},
   "source": [
    "### Say \"Hello, World!\" With Python\n",
    "\n"
   ]
  },
  {
   "cell_type": "code",
   "execution_count": null,
   "id": "6069875c-04b9-4bce-8027-d5653845a2af",
   "metadata": {},
   "outputs": [],
   "source": [
    "print(\"Hello, World!\")"
   ]
  },
  {
   "cell_type": "markdown",
   "id": "7efcf6c2-9259-4318-aa05-34803caa8329",
   "metadata": {},
   "source": [
    "### Python If-Else"
   ]
  },
  {
   "cell_type": "code",
   "execution_count": null,
   "id": "bb5625b5-c8b7-4488-935d-59be9b8164d4",
   "metadata": {},
   "outputs": [],
   "source": [
    "#!/bin/python3\n",
    "\n",
    "import math\n",
    "import os\n",
    "import random\n",
    "import re\n",
    "import sys\n",
    "\n",
    "\n",
    "if __name__ == '__main__':\n",
    "    n = int(input().strip())\n",
    "    boolean = n>=1 and n<=100 \n",
    "    if boolean:\n",
    "        if n % 2 != 0:\n",
    "            print(\"Weird\")\n",
    "        else:\n",
    "            if n>=2 and n<=5:\n",
    "                print(\"Not Weird\")\n",
    "            elif n>=6 and n<=20:\n",
    "                print(\"Weird\")\n",
    "            elif n>20:\n",
    "                print(\"Not Weird\")"
   ]
  },
  {
   "cell_type": "markdown",
   "id": "87a91698-3249-48f5-9898-8a074a26f637",
   "metadata": {},
   "source": [
    "### Arithmetic Operators\n",
    "\n"
   ]
  },
  {
   "cell_type": "code",
   "execution_count": null,
   "id": "fbc381e1-74ba-4386-ae7c-2be771753e43",
   "metadata": {},
   "outputs": [],
   "source": [
    "if __name__ == '__main__':\n",
    "    a = int(input())\n",
    "    b = int(input())\n",
    "    \n",
    "    print(a+b)\n",
    "    print(a-b)\n",
    "    print(a*b)\n"
   ]
  },
  {
   "cell_type": "markdown",
   "id": "5b6c72e3-9797-46be-85e4-fc0d4db7239e",
   "metadata": {},
   "source": [
    "### Python: Division"
   ]
  },
  {
   "cell_type": "code",
   "execution_count": null,
   "id": "a977266b-6d7a-4289-97e4-e244fbc86d69",
   "metadata": {},
   "outputs": [],
   "source": [
    "if __name__ == '__main__':\n",
    "    a = int(input())\n",
    "    b = int(input())\n",
    "    \n",
    "    print(a//b)\n",
    "    print(a/b)"
   ]
  },
  {
   "cell_type": "markdown",
   "id": "49ab328f-9f11-4fb8-bb81-fa359c486d8c",
   "metadata": {},
   "source": [
    "### Loops\n",
    "\n"
   ]
  },
  {
   "cell_type": "code",
   "execution_count": null,
   "id": "45dd6ef4-16ff-4a7e-af4e-64fb3c0355ac",
   "metadata": {},
   "outputs": [],
   "source": [
    "if __name__ == '__main__':\n",
    "    n = int(input())\n",
    "    for i in range(0,n):\n",
    "        if i>=0:\n",
    "            print(i**2)\n",
    "        "
   ]
  },
  {
   "cell_type": "markdown",
   "id": "694e2f82-a57c-49ab-a483-ea9ffa8ca935",
   "metadata": {},
   "source": [
    "### Write a function\n",
    "\n"
   ]
  },
  {
   "cell_type": "code",
   "execution_count": null,
   "id": "72bd8e61-62fa-4928-9db4-1ee44e13a8c0",
   "metadata": {},
   "outputs": [],
   "source": [
    "def is_leap(year):\n",
    "    leap = False\n",
    "    if year % 4 == 0 and year%100!=0 or year % 400 == 0:\n",
    "        leap = True      \n",
    "    return leap"
   ]
  },
  {
   "cell_type": "markdown",
   "id": "55276555-4470-42c8-8bf6-ea71adede20a",
   "metadata": {},
   "source": [
    "### Print Function\n",
    "\n"
   ]
  },
  {
   "cell_type": "code",
   "execution_count": null,
   "id": "efbd6b15-2f9d-46d9-8f96-ef38aee47795",
   "metadata": {},
   "outputs": [],
   "source": [
    "if __name__ == '__main__':\n",
    "    n = int(input())\n",
    "    a = \"\"\n",
    "    for i in range(1, n+1):\n",
    "        a += str(i)\n",
    "    print(a)\n"
   ]
  },
  {
   "cell_type": "markdown",
   "id": "8ad82e67-d8d4-4751-a07f-63840b1021bf",
   "metadata": {},
   "source": [
    "## - DATA TYPES"
   ]
  },
  {
   "cell_type": "markdown",
   "id": "de431d94-54e1-499c-8bee-09195fa73364",
   "metadata": {},
   "source": [
    "### List Comprehensions\n",
    "\n"
   ]
  },
  {
   "cell_type": "code",
   "execution_count": null,
   "id": "7cf950ec-0d00-4ab2-bf00-7642f00aab06",
   "metadata": {},
   "outputs": [],
   "source": [
    "if __name__ == '__main__':\n",
    "    x = int(input())\n",
    "    y = int(input())\n",
    "    z = int(input())\n",
    "    n = int(input())\n",
    "    print([[i,j,k] for i in range(x+1) for j in range(y+1) for k in range(z+1) if i+j+k != n])"
   ]
  },
  {
   "cell_type": "markdown",
   "id": "cec5ab50-cadd-4d0f-824d-b22311d835c6",
   "metadata": {},
   "source": [
    "### Find the Runner-Up Score!"
   ]
  },
  {
   "cell_type": "code",
   "execution_count": null,
   "id": "0dc12fd2-00b4-4d42-8d78-a7a00e6421d5",
   "metadata": {},
   "outputs": [],
   "source": [
    "if __name__ == '__main__':\n",
    "    n = int(input())\n",
    "    arr = map(int, input().split())\n",
    "    arr = set(arr)\n",
    "    arr = sorted(arr)\n",
    "    print(arr[len(arr)-2])\n",
    "        "
   ]
  },
  {
   "cell_type": "markdown",
   "id": "1ddee58b-9f98-43f1-ae7f-58d6ec08db98",
   "metadata": {},
   "source": [
    "### Nested Lists\n",
    "\n"
   ]
  },
  {
   "cell_type": "code",
   "execution_count": null,
   "id": "39fbe366-829e-4a62-94da-185236f1c5d4",
   "metadata": {},
   "outputs": [],
   "source": [
    "if __name__ == '__main__':\n",
    "    students = []\n",
    "    for _ in range(int(input())):\n",
    "        name = input()\n",
    "        score = float(input())\n",
    "        students.append([name, score])\n",
    "    ord_scores = sorted(list(set([grade[1] for grade in students])))\n",
    "    second = ord_scores[1]\n",
    "    final = []\n",
    "    for couple in students:\n",
    "        if couple[1] == second:\n",
    "            final.append(couple[0])\n",
    "    final = sorted(final)\n",
    "    for i in final:\n",
    "        print(i)\n"
   ]
  },
  {
   "cell_type": "markdown",
   "id": "2f834ebe-18fc-4f6a-a826-13aa9479f02a",
   "metadata": {},
   "source": [
    "### Finding the percentage\n",
    "\n"
   ]
  },
  {
   "cell_type": "code",
   "execution_count": null,
   "id": "8c7a40fc-dbf8-4e30-aa29-829e7df91144",
   "metadata": {},
   "outputs": [],
   "source": [
    "if __name__ == '__main__':\n",
    "    n = int(input())\n",
    "    student_marks = {}\n",
    "    for _ in range(n):\n",
    "        name, *line = input().split()\n",
    "        scores = list(map(float, line))\n",
    "        student_marks[name] = scores\n",
    "    query_name = input()\n",
    "    print(format(sum(student_marks[query_name])/3, \".2f\"))"
   ]
  },
  {
   "cell_type": "markdown",
   "id": "c5ae542e-ae12-440b-b05d-dc3e2811c9b5",
   "metadata": {},
   "source": [
    "### Lists\n",
    "\n"
   ]
  },
  {
   "cell_type": "code",
   "execution_count": null,
   "id": "a3df7c4c-2dc4-4451-80e0-57144cf5134b",
   "metadata": {},
   "outputs": [],
   "source": [
    "if __name__ == '__main__':\n",
    "    N = int(input())\n",
    "    arr = []\n",
    "    actions = [input().split() for i in range(1,N+1)]\n",
    "    for action in actions:\n",
    "        if \"insert\" in action[0]:\n",
    "            arr.insert(int(action[1]), int(action[2]))\n",
    "        elif \"print\" in action[0]:\n",
    "            print(arr)\n",
    "        elif \"remove\" in action[0]:\n",
    "            arr.remove(int(action[1]))\n",
    "        elif \"append\" in action:\n",
    "            arr.append(int(action[1]))\n",
    "        elif \"sort\" in action[0]:\n",
    "            arr.sort()\n",
    "        elif \"pop\" in action[0]:\n",
    "            arr.pop()\n",
    "        elif \"reverse\" in action[0]:\n",
    "            arr.reverse()\n",
    "            "
   ]
  },
  {
   "cell_type": "markdown",
   "id": "e7270ab2-2ac5-4a05-a9d0-33d07ecd2c23",
   "metadata": {},
   "source": [
    "### Tuples\n",
    "\n"
   ]
  },
  {
   "cell_type": "code",
   "execution_count": null,
   "id": "66bbd00f-8756-40c8-b5d7-d3086f1e5e76",
   "metadata": {},
   "outputs": [],
   "source": [
    "if __name__ == '__main__':\n",
    "    n = int(input())\n",
    "    integer_list = map(int, input().split())\n",
    "    t = tuple(integer_list)\n",
    "    print(hash(t))"
   ]
  },
  {
   "cell_type": "markdown",
   "id": "7f0c0dae-e2b7-41a7-807b-947e386d60f6",
   "metadata": {},
   "source": [
    "## - STRINGS"
   ]
  },
  {
   "cell_type": "markdown",
   "id": "03422eb6-3876-4ba2-b1e1-11b217e2964a",
   "metadata": {},
   "source": [
    "### sWAP cASE\n",
    "\n"
   ]
  },
  {
   "cell_type": "code",
   "execution_count": null,
   "id": "4052182a-f4be-445e-8321-430693f81bb4",
   "metadata": {},
   "outputs": [],
   "source": [
    "def swap_case(s):\n",
    "    return s.swapcase()\n"
   ]
  },
  {
   "cell_type": "markdown",
   "id": "415b5987-ce50-416b-aeb3-cca7dfe4cc06",
   "metadata": {},
   "source": [
    "### String Split and Join\n",
    "\n"
   ]
  },
  {
   "cell_type": "code",
   "execution_count": null,
   "id": "3447702f-205f-48e3-9c0d-c98edbe40aef",
   "metadata": {},
   "outputs": [],
   "source": [
    "def split_and_join(line):\n",
    "    a = line.split(\" \")\n",
    "    a= \"-\".join(a)\n",
    "    return a"
   ]
  },
  {
   "cell_type": "markdown",
   "id": "fb0e436b-7818-4fdc-8d1d-503d588da394",
   "metadata": {},
   "source": [
    "### What's Your Name?\n",
    "\n"
   ]
  },
  {
   "cell_type": "code",
   "execution_count": null,
   "id": "7b5001f3-6950-40b5-af3f-83a19458e761",
   "metadata": {},
   "outputs": [],
   "source": [
    "#\n",
    "# Complete the 'print_full_name' function below.\n",
    "#\n",
    "# The function is expected to return a STRING.\n",
    "# The function accepts following parameters:\n",
    "#  1. STRING first\n",
    "#  2. STRING last\n",
    "#\n",
    "\n",
    "def print_full_name(first, last):\n",
    "    print(\"Hello \" + str(first) + \" \" + str(last) + \"! You just delved into python.\")"
   ]
  },
  {
   "cell_type": "markdown",
   "id": "1e8c18db-d732-42f1-abfc-1a0ede59431e",
   "metadata": {},
   "source": [
    "### Mutations\n",
    "\n"
   ]
  },
  {
   "cell_type": "code",
   "execution_count": null,
   "id": "2d296527-c872-430c-b42f-285b682351ab",
   "metadata": {},
   "outputs": [],
   "source": [
    "def mutate_string(string, position, character):\n",
    "    lista = list(string)\n",
    "    lista[position] = character\n",
    "    lista = \"\".join(lista)\n",
    "    return lista"
   ]
  },
  {
   "cell_type": "markdown",
   "id": "cceb1859-d88e-4449-b404-ed6542f328f3",
   "metadata": {},
   "source": [
    "### Find a string\n",
    "\n"
   ]
  },
  {
   "cell_type": "code",
   "execution_count": null,
   "id": "48bd232b-743c-4d48-9b17-6cd190585df0",
   "metadata": {},
   "outputs": [],
   "source": [
    "def count_substring(string, sub_string):\n",
    "    contator = 0\n",
    "    for i in range(0,len(string)):\n",
    "        if (string[i:i+len(sub_string)] == sub_string):\n",
    "            contator += 1\n",
    "    return(contator)"
   ]
  },
  {
   "cell_type": "markdown",
   "id": "efca5648-81b8-4b4f-bfec-8f50d1da6743",
   "metadata": {},
   "source": [
    "### String Validators\n"
   ]
  },
  {
   "cell_type": "code",
   "execution_count": null,
   "id": "3e893f8d-0a0b-42c4-868e-dd066f0dba5f",
   "metadata": {},
   "outputs": [],
   "source": [
    "if __name__ == '__main__':\n",
    "    s = input()\n",
    "    print(any(character.isalnum() for character in s))\n",
    "    print(any(character.isalpha() for character in s))\n",
    "    print(any(character.isdigit() for character in s))\n",
    "    print(any(character.islower() for character in s))\n",
    "    print(any(character.isupper() for character in s))"
   ]
  },
  {
   "cell_type": "markdown",
   "id": "7899ebeb-89c0-45c7-a3be-69956e50e3b7",
   "metadata": {},
   "source": [
    "### Text Alignment\n",
    "\n"
   ]
  },
  {
   "cell_type": "code",
   "execution_count": null,
   "id": "53da8a44-be97-479c-9bef-5f28fa0db3e3",
   "metadata": {},
   "outputs": [],
   "source": [
    "#Replace all ______ with rjust, ljust or center. \n",
    "\n",
    "thickness = int(input()) #This must be an odd number\n",
    "c = 'H'\n",
    "\n",
    "#Top Cone\n",
    "for i in range(thickness):\n",
    "    print((c*i).rjust(thickness-1)+c+(c*i).ljust(thickness-1))\n",
    "\n",
    "#Top Pillars\n",
    "for i in range(thickness+1):\n",
    "    print((c*thickness).center(thickness*2)+(c*thickness).center(thickness*6))\n",
    "\n",
    "#Middle Belt\n",
    "for i in range((thickness+1)//2):\n",
    "    print((c*thickness*5).center(thickness*6))    \n",
    "\n",
    "#Bottom Pillars\n",
    "for i in range(thickness+1):\n",
    "    print((c*thickness).center(thickness*2)+(c*thickness).center(thickness*6))    \n",
    "\n",
    "#Bottom Cone\n",
    "for i in range(thickness):\n",
    "    print(((c*(thickness-i-1)).rjust(thickness)+c+(c*(thickness-i-1)).ljust(thickness)).rjust(thickness*6))\n"
   ]
  },
  {
   "cell_type": "markdown",
   "id": "687d4980-c886-4263-bd11-67b4638d8a50",
   "metadata": {},
   "source": [
    "### Text Wrap\n",
    "\n"
   ]
  },
  {
   "cell_type": "code",
   "execution_count": null,
   "id": "7b94465a-7242-4196-ad27-d0bee0a381bc",
   "metadata": {},
   "outputs": [],
   "source": [
    "def wrap(string, max_width):\n",
    "    contatore = 0\n",
    "    sub = \"\"\n",
    "    for c in string:\n",
    "        if contatore == max_width:\n",
    "            sub+= \"\\n\"\n",
    "            contatore = 0    \n",
    "        sub+=c\n",
    "        contatore+=1 \n",
    "    return sub"
   ]
  },
  {
   "cell_type": "markdown",
   "id": "a90df39e-3bf1-4080-9bba-6fc3ccd5acbb",
   "metadata": {},
   "source": [
    "### Designer Door Mat\n",
    "\n"
   ]
  },
  {
   "cell_type": "code",
   "execution_count": null,
   "id": "b5d1980c-d423-405e-a82b-d35888878917",
   "metadata": {},
   "outputs": [],
   "source": [
    "# Enter your code here. Read input from STDIN. Print output to STDOUT\n",
    "N, M = map(int, input().split())\n",
    "for i in range(1, N, 2):\n",
    "    print(str('.|.' * i).center(M, '-'))\n",
    "print('WELCOME'.center(M, '-'))\n",
    "for i in range(N-2, -1, -2):\n",
    "    print(str('.|.' * i).center(M, '-'))"
   ]
  },
  {
   "cell_type": "markdown",
   "id": "e1502af5-9cf2-4fd7-b29d-1108fd30487d",
   "metadata": {},
   "source": [
    "### String Formatting\n",
    "\n"
   ]
  },
  {
   "cell_type": "code",
   "execution_count": null,
   "id": "523339bf-3d57-427a-866d-2d3e303eb44b",
   "metadata": {},
   "outputs": [],
   "source": [
    "def print_formatted(number):\n",
    "    width = len(bin(number)[2:])\n",
    "    \n",
    "    for i in range(1, number+1):\n",
    "        decimal = str(i)\n",
    "        octal = oct(i)[2:]\n",
    "        hexadecimal = hex(i)[2:].upper()\n",
    "        binary = bin(i)[2:]\n",
    "        \n",
    "        print(decimal.rjust(width),octal.rjust(width),hexadecimal.rjust(width),binary.rjust(width))"
   ]
  },
  {
   "cell_type": "markdown",
   "id": "a18aea0d-e3f2-44d7-94c0-268a1db24f32",
   "metadata": {},
   "source": [
    "### Alphabet Rangoli\n",
    "\n"
   ]
  },
  {
   "cell_type": "code",
   "execution_count": null,
   "id": "7b635f25-c43c-4b74-8f9a-da7c0f392124",
   "metadata": {},
   "outputs": [],
   "source": [
    "from string import ascii_lowercase \n",
    "\n",
    "def print_rangoli(size):\n",
    "    for i in range(1,2*size):\n",
    "        val = ascii_lowercase[abs(size-i):size]\n",
    "        val = val[-1:0:-1] + val\n",
    "        print('-'.join(val).center(4*size-3,'-'))\n"
   ]
  },
  {
   "cell_type": "markdown",
   "id": "b31638ad-1cb1-41c6-b399-a4e8201c06fc",
   "metadata": {},
   "source": [
    "### Capitalize!\n",
    "\n"
   ]
  },
  {
   "cell_type": "code",
   "execution_count": null,
   "id": "75d2d07c-3bff-4a07-abf5-2a90ab74490e",
   "metadata": {},
   "outputs": [],
   "source": [
    "def solve(s):\n",
    "    for i in s.split():\n",
    "        s = s.replace(i,i.capitalize())\n",
    "    return s\n"
   ]
  },
  {
   "cell_type": "markdown",
   "id": "e70fcef2-b09d-4b11-a0a7-17fc12334b46",
   "metadata": {},
   "source": [
    "### The Minion Game\n",
    "\n"
   ]
  },
  {
   "cell_type": "code",
   "execution_count": null,
   "id": "e9a6074c-c9ce-4bbc-8556-279cd9c307af",
   "metadata": {},
   "outputs": [],
   "source": [
    "def minion_game(string):\n",
    "        # your code goes here\n",
    "        vocali = \"AEIOU\"\n",
    "        l = len(string)\n",
    "        pt_stuart = 0\n",
    "        pt_kevin = 0\n",
    "        for i in range(l):\n",
    "                tmp = l - i\n",
    "                if string[i] not in vocali:\n",
    "                        pt_stuart += tmp\n",
    "                else:\n",
    "                        pt_kevin += tmp\n",
    "        if pt_stuart > pt_kevin:\n",
    "            print(\"Stuart\", pt_stuart)\n",
    "        elif pt_stuart == pt_kevin:\n",
    "            print(\"Draw\")\n",
    "        else:\n",
    "            print(\"Kevin\", pt_kevin)   "
   ]
  },
  {
   "cell_type": "markdown",
   "id": "cbfd2cda-bbe1-4f00-85e4-f6081c80c872",
   "metadata": {},
   "source": [
    "### Merge the Tools!\n",
    "\n"
   ]
  },
  {
   "cell_type": "code",
   "execution_count": null,
   "id": "4f4a94de-b68a-44d5-b12a-5b8d543ff9c7",
   "metadata": {},
   "outputs": [],
   "source": [
    "def merge_the_tools(string, k):\n",
    "    for i in range(0,len(string),k):\n",
    "        new = \"\"\n",
    "        sub = string[i:i+k]\n",
    "        for c in sub:\n",
    "            if c not in new:\n",
    "                new += c\n",
    "        print(new)"
   ]
  },
  {
   "cell_type": "markdown",
   "id": "a2468825-9d6f-44d1-b8c5-9088739885d8",
   "metadata": {},
   "source": [
    "## - SETS"
   ]
  },
  {
   "cell_type": "markdown",
   "id": "c91107ff-db95-4d4c-a558-9fd8cd87fe1f",
   "metadata": {},
   "source": [
    "### Introduction to Sets\n",
    "\n"
   ]
  },
  {
   "cell_type": "code",
   "execution_count": null,
   "id": "0f095907-5fd0-49dc-ab7f-1acc1b2aab47",
   "metadata": {},
   "outputs": [],
   "source": [
    "def average(array):\n",
    "    s = set(array)\n",
    "    somma = 0\n",
    "    for i in s:\n",
    "        somma+=i    \n",
    "    return round(somma/len(s),3)"
   ]
  },
  {
   "cell_type": "markdown",
   "id": "0ce46bc9-542c-42b0-8f41-776aac1c5aa4",
   "metadata": {},
   "source": [
    "### No Idea!\n",
    "\n"
   ]
  },
  {
   "cell_type": "code",
   "execution_count": null,
   "id": "1034eef5-8e7a-442f-b491-ddc21a6a2511",
   "metadata": {},
   "outputs": [],
   "source": [
    "n,m = map(int,input().split())\n",
    "arr = list(map(int,input().split()))\n",
    "A = set(map(int,(input().split())))\n",
    "B = set(map(int,(input().split())))\n",
    "happiness = 0\n",
    "for i in range(n):\n",
    "    if arr[i] in A:\n",
    "        happiness += 1\n",
    "    elif arr[i] in B:\n",
    "        happiness -= 1\n",
    "print(happiness)"
   ]
  },
  {
   "cell_type": "markdown",
   "id": "e58bca39-a0a1-431f-a623-63562b005d06",
   "metadata": {},
   "source": [
    "### Symmetric Difference\n",
    "\n"
   ]
  },
  {
   "cell_type": "code",
   "execution_count": null,
   "id": "56f2a9ae-07a6-4250-a25a-d4ff5b476c5c",
   "metadata": {},
   "outputs": [],
   "source": [
    "M = int(input())\n",
    "m_list = set(map(int, input().split()))\n",
    "N = int(input())\n",
    "n_list = set(map(int, input().split()))\n",
    "first = m_list.difference(n_list)\n",
    "second = n_list.difference(m_list)\n",
    "solution = first.union(second)\n",
    "sorted = list(solution)\n",
    "sorted.sort()\n",
    "for i in sorted:\n",
    "    print(i)\n"
   ]
  },
  {
   "cell_type": "markdown",
   "id": "faca8f28-d799-4e41-93e5-b27fca69f524",
   "metadata": {},
   "source": [
    "### Set .add()\n",
    "\n"
   ]
  },
  {
   "cell_type": "code",
   "execution_count": null,
   "id": "28099c10-01b1-407c-88b3-fe4aa744b906",
   "metadata": {},
   "outputs": [],
   "source": [
    "N = int(input())\n",
    "s = set()\n",
    "for i in range(N):\n",
    "    s.add(input())\n",
    "    \n",
    "print(len(s))\n"
   ]
  },
  {
   "cell_type": "markdown",
   "id": "f0c773db-b9d3-4402-884c-bc096e696bf8",
   "metadata": {},
   "source": [
    "### Set .discard(), .remove() & .pop()\n",
    "\n"
   ]
  },
  {
   "cell_type": "code",
   "execution_count": null,
   "id": "445b63ba-ca5c-41e5-98f8-f0ceae3785ee",
   "metadata": {},
   "outputs": [],
   "source": [
    "n = int(input())\n",
    "s = set(map(int, input().split()))\n",
    "N = int(input())\n",
    "\n",
    "for i in range(N):\n",
    "    action = input().split()\n",
    "    if action[0] == \"discard\":\n",
    "        s.discard(int(action[1]))\n",
    "    elif action[0] == \"remove\":\n",
    "        s.remove(int(action[1]))\n",
    "    elif action[0] == \"pop\":\n",
    "        s.pop()\n",
    "print(sum(s))"
   ]
  },
  {
   "cell_type": "markdown",
   "id": "13874e96-f9d2-4ec7-92ad-975e7ccf5300",
   "metadata": {},
   "source": [
    "### Set .union() Operation\n",
    "\n"
   ]
  },
  {
   "cell_type": "code",
   "execution_count": null,
   "id": "12934ff7-a76e-4502-9006-d4d0ba62ead0",
   "metadata": {},
   "outputs": [],
   "source": [
    "n = int(input())\n",
    "s1 = set(input().split())\n",
    "\n",
    "n2 = int(input())\n",
    "s2 = set(input().split())\n",
    "\n",
    "new = s1.union(s2)\n",
    "\n",
    "print(len(new))\n"
   ]
  },
  {
   "cell_type": "markdown",
   "id": "1872e75b-35d5-4c7d-86c0-e2ed85d5418b",
   "metadata": {},
   "source": [
    "### Set .intersection() Operation\n",
    "\n"
   ]
  },
  {
   "cell_type": "code",
   "execution_count": null,
   "id": "f3f8936a-59c0-4ee7-a481-767d5f362f2d",
   "metadata": {},
   "outputs": [],
   "source": [
    "n = int(input())\n",
    "s1 = set(input().split())\n",
    "\n",
    "n2 = int(input())\n",
    "s2 = set(input().split())\n",
    "\n",
    "new = s1.intersection(s2)\n",
    "\n",
    "print(len(new))"
   ]
  },
  {
   "cell_type": "markdown",
   "id": "16bdbdfa-7ccc-47d5-8d65-057e5eff9532",
   "metadata": {},
   "source": [
    "### Set .difference() Operation\n",
    "\n"
   ]
  },
  {
   "cell_type": "code",
   "execution_count": null,
   "id": "55eee335-4eaa-48bf-9ca8-a513a94f52f1",
   "metadata": {},
   "outputs": [],
   "source": [
    "n = int(input())\n",
    "s1 = set(input().split())\n",
    "\n",
    "n2 = int(input())\n",
    "s2 = set(input().split())\n",
    "\n",
    "new = s1.difference(s2)\n",
    "\n",
    "print(len(new))\n"
   ]
  },
  {
   "cell_type": "markdown",
   "id": "8f8c5b11-0a93-43d5-b7dc-bdc054f40155",
   "metadata": {},
   "source": [
    "### Set .symmetric_difference() Operation\n",
    "\n"
   ]
  },
  {
   "cell_type": "code",
   "execution_count": null,
   "id": "432f33c6-a380-4122-901e-a7c50ecde37f",
   "metadata": {},
   "outputs": [],
   "source": [
    "n = int(input())\n",
    "s1 = set(input().split())\n",
    "\n",
    "n2 = int(input())\n",
    "s2 = set(input().split())\n",
    "\n",
    "new = s1.symmetric_difference(s2)\n",
    "\n",
    "print(len(new))"
   ]
  },
  {
   "cell_type": "markdown",
   "id": "e2165f80-1875-42f4-989d-2eabe3481c1e",
   "metadata": {},
   "source": [
    "### Set Mutations\n",
    "\n"
   ]
  },
  {
   "cell_type": "code",
   "execution_count": null,
   "id": "57349998-1f3c-482d-a41b-56cd237f200b",
   "metadata": {},
   "outputs": [],
   "source": [
    "n_a = int(input())\n",
    "A = set(map(int,(input().split())))\n",
    "n_other = int(input())\n",
    "\n",
    "for i in range(n_other):\n",
    "    action = input().split()\n",
    "    s = set(map(int,input().split()))\n",
    "    if action[0] == \"intersection_update\":\n",
    "        A.intersection_update(s)\n",
    "    elif action[0] == \"update\":\n",
    "        A.update(s)\n",
    "    elif action[0] == \"symmetric_difference_update\":\n",
    "        A.symmetric_difference_update(s)\n",
    "    elif action[0] == \"difference_update\":\n",
    "        A.difference_update(s)\n",
    "print(sum(A))\n"
   ]
  },
  {
   "cell_type": "markdown",
   "id": "be7a6b7d-6a81-4dd1-99ac-6ba04137fff8",
   "metadata": {},
   "source": [
    "### The Captain's Room\n",
    "\n"
   ]
  },
  {
   "cell_type": "code",
   "execution_count": null,
   "id": "7d9f935f-7e92-4ff4-a1f3-344bd6512fe3",
   "metadata": {},
   "outputs": [],
   "source": [
    "from collections import Counter\n",
    "K=int(input())\n",
    "cont = Counter(list(map(int,input().split())))\n",
    "for i in cont:\n",
    "    if cont[i]==1:\n",
    "        print(i)"
   ]
  },
  {
   "cell_type": "markdown",
   "id": "adc58305-437e-4907-bc18-6afc3ec77a1b",
   "metadata": {},
   "source": [
    "### Check Subset\n",
    "\n"
   ]
  },
  {
   "cell_type": "code",
   "execution_count": null,
   "id": "4f34dd0a-d5ff-4463-bb85-f1ce7998c4d6",
   "metadata": {},
   "outputs": [],
   "source": [
    "n = int(input())\n",
    "for i in range(n):\n",
    "    n_A = int(input())\n",
    "    A = set(map(int, input().split()))\n",
    "    n_B = int(input())\n",
    "    B = set(map(int, input().split()))\n",
    "    if A.union(B)== B:\n",
    "        print(True)\n",
    "    else:\n",
    "        print(False)\n"
   ]
  },
  {
   "cell_type": "markdown",
   "id": "c5e54c02-e18a-42a3-92bf-1353d8e5f98e",
   "metadata": {},
   "source": [
    "### Check Strict Superset\n",
    "\n"
   ]
  },
  {
   "cell_type": "code",
   "execution_count": null,
   "id": "c4cb0671-9223-4c8e-843a-0964139aa314",
   "metadata": {},
   "outputs": [],
   "source": [
    "A = set(map(int, input().split()))\n",
    "n = int(input())\n",
    "flag = False\n",
    "for i in range(n):\n",
    "    s = set(map(int,input().split()))\n",
    "    if A.union(s) == A and len(A.difference(s)) >=1:\n",
    "        flag = True\n",
    "    else:\n",
    "        flag = False\n",
    "        break\n",
    "print(flag)"
   ]
  },
  {
   "cell_type": "markdown",
   "id": "d4089d3f-16b6-4f2e-b863-c07ddf31920e",
   "metadata": {},
   "source": [
    "## - COLLECTIONS"
   ]
  },
  {
   "cell_type": "markdown",
   "id": "2333915a-49bc-4340-97a4-8b8b8c3f5abf",
   "metadata": {},
   "source": [
    "### collections.Counter()\n",
    "\n"
   ]
  },
  {
   "cell_type": "code",
   "execution_count": null,
   "id": "3f778b50-1404-49f8-a6f9-9b43acb61b2f",
   "metadata": {},
   "outputs": [],
   "source": [
    "X = int(input())\n",
    "sizes = list(map(int, input().split()))\n",
    "N = int(input())\n",
    "somma = 0\n",
    "for i in range(N):\n",
    "    p = list(map(int, input().split()))\n",
    "    if p[0] in sizes:\n",
    "        somma += p[1]\n",
    "        sizes.remove(p[0])\n",
    "print(somma)\n",
    "     "
   ]
  },
  {
   "cell_type": "markdown",
   "id": "ff7410d9-364f-4280-a897-03ebb5f7475d",
   "metadata": {},
   "source": [
    "### DefaultDict Tutorial\n",
    "\n"
   ]
  },
  {
   "cell_type": "code",
   "execution_count": null,
   "id": "83a92103-42ce-4ce4-8a62-93bb8da7afb1",
   "metadata": {},
   "outputs": [],
   "source": [
    "from collections import defaultdict\n",
    "n,m = map(int, input().split())\n",
    "d = defaultdict(list)\n",
    "\n",
    "for i in range(n):\n",
    "    d['A'].append(input())\n",
    "\n",
    "for t in range(m):\n",
    "    d['B'].append(input())\n",
    "\n",
    "for i in range(1,m+1):\n",
    "    stampa = \"\"\n",
    "    for k in range(1,n+1):\n",
    "        if d['B'][i-1] == d['A'][k-1]:\n",
    "            stampa += str(k)+ \" \" \n",
    "            continue\n",
    "    if d['B'][i-1] not in d['A']:\n",
    "        stampa += \"-1\"+\" \"\n",
    "    print(stampa)"
   ]
  },
  {
   "cell_type": "markdown",
   "id": "6595c477-9ddd-47f8-8269-874b3bc22189",
   "metadata": {},
   "source": [
    "### Collections.namedtuple()\n",
    "\n"
   ]
  },
  {
   "cell_type": "code",
   "execution_count": null,
   "id": "00a65fdf-9dc0-4a88-bb49-a776134db75a",
   "metadata": {},
   "outputs": [],
   "source": [
    "from collections import namedtuple\n",
    "N = int(input())\n",
    "variables = \",\".join(input().split())\n",
    "a = namedtuple('col', variables)\n",
    "somma = 0\n",
    "for i in range(N):\n",
    "    value = a(*input().split())\n",
    "    somma += int(value.MARKS)\n",
    "print(format(somma/N,'.2f'))\n"
   ]
  },
  {
   "cell_type": "markdown",
   "id": "0d70c71c-06ad-47c2-99d1-b504c95bd8ec",
   "metadata": {},
   "source": [
    "### Collections.OrderedDict()\n",
    "\n"
   ]
  },
  {
   "cell_type": "code",
   "execution_count": null,
   "id": "063c7fa9-c0ca-47a8-a007-441859f758f8",
   "metadata": {},
   "outputs": [],
   "source": [
    "from collections import OrderedDict\n",
    "N = int(input())\n",
    "\n",
    "ordered_dictionary = OrderedDict()\n",
    "\n",
    "for i in range(N):\n",
    "    item = input().split()\n",
    "    item_name = \" \".join(item[:-1])\n",
    "    net_price = int(item[-1])\n",
    "    if item_name not in ordered_dictionary:\n",
    "        ordered_dictionary[item_name] = net_price\n",
    "    else:\n",
    "        ordered_dictionary[item_name] += net_price\n",
    "\n",
    "for i in ordered_dictionary.keys():\n",
    "    print(i, ordered_dictionary[i])\n"
   ]
  },
  {
   "cell_type": "markdown",
   "id": "0c5800e2-a622-46ec-af4a-b2351a13b61d",
   "metadata": {},
   "source": [
    "### Word Order\n",
    "\n"
   ]
  },
  {
   "cell_type": "code",
   "execution_count": null,
   "id": "d36db3be-1de6-4a4c-936d-801fe2e996a3",
   "metadata": {},
   "outputs": [],
   "source": [
    "from collections import OrderedDict\n",
    "n = int(input())\n",
    "\n",
    "dic = OrderedDict()\n",
    "\n",
    "for i in range(n):\n",
    "    word = input()\n",
    "    if word not in dic:\n",
    "        dic[word] = 1\n",
    "    else:\n",
    "        dic[word] += 1\n",
    "\n",
    "print(len(dic))\n",
    "for v in dic.values():\n",
    "    print(v,end = \" \");\n",
    "\n"
   ]
  },
  {
   "cell_type": "markdown",
   "id": "12165aec-5aa0-4be2-a64e-537c6b2e977d",
   "metadata": {},
   "source": [
    "### Collections.deque()\n",
    "\n"
   ]
  },
  {
   "cell_type": "code",
   "execution_count": null,
   "id": "421ab522-6f25-4143-8fb9-d671f14c4705",
   "metadata": {},
   "outputs": [],
   "source": [
    "from collections import deque\n",
    "N = int(input())\n",
    "d = deque()\n",
    "for i in range(N):\n",
    "    action = input().split()\n",
    "    if action[0] == 'append':\n",
    "        d.append(action[1])\n",
    "    elif action[0] == 'appendleft':\n",
    "        d.appendleft(action[1])\n",
    "    elif action[0] == 'pop':\n",
    "        d.pop()\n",
    "    elif action[0] == 'popleft':\n",
    "        d.popleft()\n",
    "\n",
    "for element in d:\n",
    "    print(element, end = \" \")\n"
   ]
  },
  {
   "cell_type": "markdown",
   "id": "e718d01b-c1ee-440a-8e4b-2f15651d005b",
   "metadata": {},
   "source": [
    "### Company Logo\n",
    "\n"
   ]
  },
  {
   "cell_type": "code",
   "execution_count": null,
   "id": "32ba6e06-1a33-45f5-bc0d-fa023452ad02",
   "metadata": {},
   "outputs": [],
   "source": [
    "#!/bin/python3\n",
    "from collections import Counter\n",
    "import math\n",
    "import os\n",
    "import random\n",
    "import re\n",
    "import sys\n",
    "\n",
    "\n",
    "\n",
    "if __name__ == '__main__':\n",
    "    s = input()\n",
    "    s = sorted(s)\n",
    "    C = Counter(s)\n",
    "    for i, j in C.most_common(3):\n",
    "        print(i, j)\n",
    "        \n"
   ]
  },
  {
   "cell_type": "markdown",
   "id": "1bfc3346-79fa-46c7-8cd5-6580f846d7a3",
   "metadata": {},
   "source": [
    "### Piling Up!\n",
    "\n"
   ]
  },
  {
   "cell_type": "code",
   "execution_count": null,
   "id": "857f932c-a320-46d4-971f-bb144002d903",
   "metadata": {},
   "outputs": [],
   "source": [
    "# Enter your code here. Read input from STDIN. Print output to STDOUT\n",
    "from collections import deque\n",
    "\n",
    "for i in range(int(input())):\n",
    "    value  = int(input())\n",
    "    d = deque([int(k) for k in input().split()])\n",
    "    lista = []\n",
    "    while d:\n",
    "        if d[-1] >= d[0]:\n",
    "            lista.append(d.pop())\n",
    "        else:\n",
    "            lista.append(d.popleft())\n",
    "    if lista == sorted(lista,reverse=True):\n",
    "        print('Yes')\n",
    "    else:\n",
    "        print('No')\n"
   ]
  },
  {
   "cell_type": "markdown",
   "id": "df646c74-144a-4e52-9765-271e3519f938",
   "metadata": {},
   "source": [
    "## - DATA AND TIME"
   ]
  },
  {
   "cell_type": "markdown",
   "id": "2a2b1a6c-a3a1-4d0c-9638-68512a0483b6",
   "metadata": {},
   "source": [
    "### Calendar Module\n",
    "\n"
   ]
  },
  {
   "cell_type": "code",
   "execution_count": null,
   "id": "0d6c327d-9b8a-4dbb-a0ba-c961ee666a81",
   "metadata": {},
   "outputs": [],
   "source": [
    "import datetime\n",
    "import calendar\n",
    "date_time_obj = datetime.datetime.strptime(input(), '%m %d %Y')\n",
    "date = date_time_obj.date()\n",
    "day = calendar.day_name[date.weekday()]\n",
    "print(day.upper())\n"
   ]
  },
  {
   "cell_type": "markdown",
   "id": "c813b991-a6f5-462d-93e1-83a632ce5734",
   "metadata": {},
   "source": [
    "### Time Delta\n",
    "\n"
   ]
  },
  {
   "cell_type": "code",
   "execution_count": null,
   "id": "92670836-eb50-4b02-afca-6c97c906f75f",
   "metadata": {},
   "outputs": [],
   "source": [
    "#!/bin/python3\n",
    "import datetime\n",
    "import math\n",
    "import os\n",
    "import random\n",
    "import re\n",
    "import sys\n",
    "\n",
    "# Complete the time_delta function below.\n",
    "def time_delta(t1, t2):\n",
    "    t1_s = datetime.datetime.strptime(t1,'%a %d %b %Y %H:%M:%S %z')\n",
    "    t2_s = datetime.datetime.strptime(t2,'%a %d %b %Y %H:%M:%S %z')\n",
    "    return str(abs(int((t1_s-t2_s).total_seconds())))\n",
    "    \n",
    "\n",
    "if __name__ == '__main__':\n",
    "    fptr = open(os.environ['OUTPUT_PATH'], 'w')\n",
    "\n",
    "    t = int(input())\n",
    "\n",
    "    for t_itr in range(t):\n",
    "        t1 = input()\n",
    "\n",
    "        t2 = input()\n",
    "\n",
    "        delta = time_delta(t1, t2)\n",
    "\n",
    "        fptr.write(delta + '\\n')\n",
    "\n",
    "    fptr.close()\n"
   ]
  },
  {
   "cell_type": "markdown",
   "id": "6666c13d-f152-4287-97b4-ffb1cc13612f",
   "metadata": {},
   "source": [
    "## - EXCEPTIONS\n",
    "\n"
   ]
  },
  {
   "cell_type": "markdown",
   "id": "32917090-c98a-4c30-a837-98780680c9f8",
   "metadata": {
    "tags": []
   },
   "source": [
    "### Exceptions\n",
    "\n"
   ]
  },
  {
   "cell_type": "code",
   "execution_count": null,
   "id": "1957f56e-dc6b-4ab1-b458-b02ef7cd6c66",
   "metadata": {},
   "outputs": [],
   "source": [
    "T = int(input())\n",
    "\n",
    "for i in range(T):\n",
    "    try:\n",
    "        a = list(map(int,input().split()))\n",
    "        print(a[0]//a[1])\n",
    "    except ZeroDivisionError as e:\n",
    "        print(\"Error Code:\", e)\n",
    "    except ValueError as e:\n",
    "        print(\"Error Code:\", e)\n"
   ]
  },
  {
   "cell_type": "markdown",
   "id": "c0e6015e-160b-4bdd-baff-7da2d99ef31e",
   "metadata": {},
   "source": [
    "## BUILT-IN"
   ]
  },
  {
   "cell_type": "markdown",
   "id": "8b35e6f1-27a4-481c-aa85-048a1ae37929",
   "metadata": {},
   "source": [
    "### Zipped!\n",
    "\n",
    " "
   ]
  },
  {
   "cell_type": "code",
   "execution_count": null,
   "id": "b360309a-3143-440d-87c4-8797177006b6",
   "metadata": {},
   "outputs": [],
   "source": [
    "lista = list(map(int,(input().split())))\n",
    "t = [map(float,input().split()) for i in range(lista[1])]\n",
    "for i in zip(*t):\n",
    "    print (sum(i)/lista[1])"
   ]
  },
  {
   "cell_type": "markdown",
   "id": "0cb16e29-34a8-43a4-a1e0-1c5e671f4ab0",
   "metadata": {},
   "source": [
    "### Athlete Sort\n",
    "\n"
   ]
  },
  {
   "cell_type": "code",
   "execution_count": null,
   "id": "0211f5fc-464f-4707-86dd-8aec26a33fe8",
   "metadata": {},
   "outputs": [],
   "source": [
    "#!/bin/python3\n",
    "\n",
    "import math\n",
    "import os\n",
    "import random\n",
    "import re\n",
    "import sys\n",
    "\n",
    "if __name__ == '__main__':\n",
    "    nm = input().split()\n",
    "    n = int(nm[0])\n",
    "    m = int(nm[1])\n",
    "    arr = []\n",
    "    for _ in range(n):\n",
    "        arr.append(list(map(int, input().rstrip().split())))\n",
    "    k = int(input())\n",
    "    lista = sorted(arr, key = lambda var: var[k])\n",
    "    \n",
    "for l in lista:\n",
    "    for i in l:\n",
    "        print(i,end = ' ')\n",
    "    print()\n",
    "            \n",
    "    \n",
    "    \n",
    "    \n",
    "    \n"
   ]
  },
  {
   "cell_type": "markdown",
   "id": "a8cb174a-4042-41cd-8775-d4275ff907ba",
   "metadata": {},
   "source": [
    "### ginortS\n",
    "\n"
   ]
  },
  {
   "cell_type": "code",
   "execution_count": null,
   "id": "fd23367d-ceae-4697-a9a8-e01896e39643",
   "metadata": {},
   "outputs": [],
   "source": [
    "S = input()\n",
    "lower = []\n",
    "upper = []\n",
    "odd = []\n",
    "even = []\n",
    "for element in S:\n",
    "    if element.isalpha():\n",
    "        if element.islower():\n",
    "            lower.append(element)\n",
    "        else:\n",
    "            upper.append(element)\n",
    "    elif element.isnumeric():\n",
    "        if int(element)%2 != 0:\n",
    "            odd.append(element)\n",
    "        else:\n",
    "            even.append(element)\n",
    "\n",
    "print(''.join(sorted(lower))+''.join(sorted(upper))+''.join(sorted(odd))+''.join(sorted(even)))\n"
   ]
  },
  {
   "cell_type": "markdown",
   "id": "c562daea-ed74-46ad-a9d4-dd573ad05d0f",
   "metadata": {},
   "source": [
    "## - PYTHON FUNCTIONALS"
   ]
  },
  {
   "cell_type": "markdown",
   "id": "2c802881-8907-4f47-8807-482bb3651ca9",
   "metadata": {},
   "source": [
    "### Map and Lambda Function\n",
    "\n"
   ]
  },
  {
   "cell_type": "code",
   "execution_count": null,
   "id": "5d5470dc-2fdb-4d7c-a334-a14940b064e6",
   "metadata": {},
   "outputs": [],
   "source": [
    "cube = lambda x: # complete the lambda function \n",
    "\n",
    "def fibonacci(n):\n",
    "    # return a list of fibonacci numbers\n",
    "\n",
    "if __name__ == '__main__':\n",
    "    n = int(input())\n",
    "    print(list(map(cube, fibonacci(n))))"
   ]
  },
  {
   "cell_type": "markdown",
   "id": "ab7821e9-3227-4e04-a42d-315c5bbfde6f",
   "metadata": {},
   "source": [
    "## - REGEX AND PARSING CHALLENGES"
   ]
  },
  {
   "cell_type": "markdown",
   "id": "54851f5b-054f-4044-b61a-c7960fc18ced",
   "metadata": {},
   "source": [
    "### Detect Floating Point Number\n",
    "\n"
   ]
  },
  {
   "cell_type": "code",
   "execution_count": null,
   "id": "2b67225f-6176-42c6-8a3a-0ac4635f3ee0",
   "metadata": {},
   "outputs": [],
   "source": [
    "import re\n",
    "N = int(input())\n",
    "for i in range(N):\n",
    "    print(bool(re.match(r'^[-+]?[0-9]*\\.[0-9]+$', input())))"
   ]
  },
  {
   "cell_type": "markdown",
   "id": "752acdf0-0b59-4bcc-b39a-08bfc345471c",
   "metadata": {},
   "source": [
    "### Re.split()\n",
    "\n"
   ]
  },
  {
   "cell_type": "code",
   "execution_count": null,
   "id": "590aefe9-39df-4795-bacb-149175a44eec",
   "metadata": {},
   "outputs": [],
   "source": [
    "regex_pattern = r\"[,.]\""
   ]
  },
  {
   "cell_type": "markdown",
   "id": "821b13b8-72b9-4d73-b055-801f9fb8c6a5",
   "metadata": {},
   "source": [
    "### Group(), Groups() & Groupdict()\n",
    "\n"
   ]
  },
  {
   "cell_type": "code",
   "execution_count": null,
   "id": "b1ea8f62-6307-442e-91fe-9741492224bd",
   "metadata": {},
   "outputs": [],
   "source": [
    "import re\n",
    "S  = input()\n",
    "pattern= re.search(r'([a-z0-9])\\1+', S)\n",
    "if pattern:\n",
    "    print (pattern.group(0)[1])\n",
    "else:\n",
    "    print(-1)"
   ]
  },
  {
   "cell_type": "markdown",
   "id": "61ae10f8-7044-4142-b3d7-94f517a5f770",
   "metadata": {},
   "source": [
    "### Re.findall() & Re.finditer()\n",
    "\n"
   ]
  },
  {
   "cell_type": "code",
   "execution_count": null,
   "id": "eb5c6820-fc59-44c8-996e-88f2b3cc39d0",
   "metadata": {},
   "outputs": [],
   "source": [
    "import re\n",
    "string = input()\n",
    "lista = re.findall(r\"(?<=[^aeiouAEIOU])([aeiouAEIOU]{2,})(?=[^aeiouAEIOU])\", string)\n",
    "if lista:\n",
    "    for i in lista:\n",
    "        print(i)\n",
    "else:\n",
    "    print(-1)"
   ]
  },
  {
   "cell_type": "markdown",
   "id": "c41fec78-99da-4249-87e7-88a8fcf8f1bf",
   "metadata": {},
   "source": [
    "### Re.start() & Re.end()\n",
    "\n"
   ]
  },
  {
   "cell_type": "code",
   "execution_count": null,
   "id": "bf941370-e703-47b6-977f-a0b7ac797a00",
   "metadata": {},
   "outputs": [],
   "source": [
    "import re\n",
    "S = input()\n",
    "k = input()\n",
    "\n",
    "if re.search(r''+k+'', S):\n",
    "    for m in re.finditer(r'(?=('+k+'))', S):\n",
    "        print(f'({m.start(1)}, {m.end(1)-1})')\n",
    "else:\n",
    "    print(\"(-1, -1)\")"
   ]
  },
  {
   "cell_type": "markdown",
   "id": "0900af51-ff4b-4f32-ae7c-9a1c65566a80",
   "metadata": {},
   "source": [
    "### Regex Substitution\n",
    "\n"
   ]
  },
  {
   "cell_type": "code",
   "execution_count": null,
   "id": "6a047f13-4e13-4715-8ee7-38352622465a",
   "metadata": {},
   "outputs": [],
   "source": [
    "import re\n",
    "N = int(input())\n",
    "\n",
    "for i in range(N):\n",
    "    line = input()\n",
    "    while ' && ' in line or ' || ' in line:\n",
    "        line = re.sub(r\" \\&\\&\\ \",\" and \",line)\n",
    "        line = re.sub(r\" \\|\\|\\ \",\" or \",line)\n",
    "    print(line)"
   ]
  },
  {
   "cell_type": "markdown",
   "id": "e2dfc47c-d1ab-4a53-873f-b21ad5378d73",
   "metadata": {},
   "source": [
    "### Validating Roman Numerals\n",
    "\n"
   ]
  },
  {
   "cell_type": "code",
   "execution_count": null,
   "id": "2b198288-4c6f-41e1-8e81-89243c6324d3",
   "metadata": {},
   "outputs": [],
   "source": [
    "regex_pattern = r\"^M{0,3}(CM|CD|D?C{0,3})(XC|XL|L?X{0,3})(IX|IV|V?I{0,3})$\"  "
   ]
  },
  {
   "cell_type": "markdown",
   "id": "65c36e25-3a38-49b2-8b29-3f4b0faa5790",
   "metadata": {},
   "source": [
    "### Validating phone numbers\n",
    "\n"
   ]
  },
  {
   "cell_type": "code",
   "execution_count": null,
   "id": "c76b1b0b-54c2-426f-a7ca-42d3a3092f47",
   "metadata": {},
   "outputs": [],
   "source": [
    "import re\n",
    "\n",
    "N = int(input())\n",
    "pattern = r\"^[789][0-9]{9}$\"\n",
    "for i in range(N):\n",
    "    if re.search(pattern, input()):\n",
    "        print('YES')\n",
    "        continue\n",
    "    print('NO')"
   ]
  },
  {
   "cell_type": "markdown",
   "id": "53fe5131-b531-4863-8003-6ebb3f8f6eb1",
   "metadata": {},
   "source": [
    "### Validating and Parsing Email Addresses\n",
    "\n"
   ]
  },
  {
   "cell_type": "code",
   "execution_count": null,
   "id": "1732fe4a-9ac2-4452-8304-5840c76ef8fe",
   "metadata": {},
   "outputs": [],
   "source": [
    "import re\n",
    "n = int(input())\n",
    "pattern = r'<[A-Za-z](\\w|-|_|\\.)+@[A-Za-z]+\\.[A-Za-z]{1,3}>'\n",
    "for _ in range(n):\n",
    "    string = input().split()\n",
    "    if bool(re.match(pattern,string[1])):\n",
    "        print(string[0], string[1])\n"
   ]
  },
  {
   "cell_type": "markdown",
   "id": "5e43229b-d647-4470-8571-db283a4b12de",
   "metadata": {},
   "source": [
    "### Hex Color Code\n",
    "\n"
   ]
  },
  {
   "cell_type": "code",
   "execution_count": null,
   "id": "40fc9092-8ddc-479a-bb78-e802396f8a25",
   "metadata": {},
   "outputs": [],
   "source": [
    "import re\n",
    "\n",
    "N = int(input())\n",
    "for _ in range(N):\n",
    "    hex_colors = re.findall('[\\s:](#[a-fA-F0-9]{3,6})', input())\n",
    "    for c in hex_colors:\n",
    "        print(c)"
   ]
  },
  {
   "cell_type": "markdown",
   "id": "e6bee2b0-dc4d-459a-b325-032aa72bd990",
   "metadata": {},
   "source": [
    "### HTML Parser - Part 1\n",
    "\n"
   ]
  },
  {
   "cell_type": "code",
   "execution_count": null,
   "id": "60fbd08c-fbc6-4c22-831f-4e874df6e0e1",
   "metadata": {},
   "outputs": [],
   "source": [
    "from html.parser import HTMLParser\n",
    "class HtmlParser(HTMLParser):\n",
    "    def handle_starttag(self, tag, attrs):\n",
    "        print(f\"Start : {tag}\")\n",
    "        if attrs:\n",
    "            for name, val in attrs:\n",
    "                print(f\"-> {name} > {val}\")\n",
    "\n",
    "    def handle_endtag(self, tag):\n",
    "        print(f\"End   : {tag}\")\n",
    "\n",
    "    def handle_startendtag(self, tag, attrs):\n",
    "        print(f\"Empty : {tag}\")\n",
    "        if attrs:\n",
    "            for name, val in attrs:\n",
    "                print(f\"-> {name} > {val}\")\n",
    "\n",
    "parser = HtmlParser()\n",
    "N = int(input())\n",
    "parser.feed(\"\".join(input() for _ in range(N)))\n"
   ]
  },
  {
   "cell_type": "markdown",
   "id": "361c0809-27c8-4ac0-af47-9976ed7f22c9",
   "metadata": {},
   "source": [
    "### HTML Parser - Part 2\n",
    "\n"
   ]
  },
  {
   "cell_type": "code",
   "execution_count": null,
   "id": "5aeccff4-ce43-4e61-8c21-b52e6a264eec",
   "metadata": {},
   "outputs": [],
   "source": [
    "from html.parser import HTMLParser\n",
    "\n",
    "class MyHTMLParser(HTMLParser):\n",
    "    \n",
    "    def handle_comment(self, data):\n",
    "        if '\\n' in data:\n",
    "            print ('>>> Multi-line Comment')\n",
    "        else:\n",
    "            print('>>> Single-line Comment')\n",
    "        print (data)\n",
    "        \n",
    "    def handle_data(self, data):\n",
    "        if data !='\\n':\n",
    "            print('>>> Data')\n",
    "            print(data)\n",
    "  \n",
    "  \n",
    "html = \"\"       \n",
    "for i in range(int(input())):\n",
    "    html += input().rstrip()\n",
    "    html += '\\n'\n",
    "    \n",
    "parser = MyHTMLParser()\n",
    "parser.feed(html)\n",
    "parser.close()\n"
   ]
  },
  {
   "cell_type": "markdown",
   "id": "395f1acf-812e-4eb7-9c68-1f8673a87eef",
   "metadata": {},
   "source": [
    "### Detect HTML Tags, Attributes and Attribute Values\n",
    "\n"
   ]
  },
  {
   "cell_type": "code",
   "execution_count": null,
   "id": "d252bf02-464b-4b91-9253-735567495f65",
   "metadata": {},
   "outputs": [],
   "source": [
    "from html.parser import HTMLParser\n",
    "\n",
    "class MyHTMLParser(HTMLParser):\n",
    "    def handle_starttag(self,tag,attrs):\n",
    "        print(tag)\n",
    "        for ele in attrs:\n",
    "            print('->',ele[0],'>',ele[1])\n",
    "   \n",
    "            \n",
    "parser=MyHTMLParser()\n",
    "for _ in range(int(input())):\n",
    "    parser.feed(input())\n",
    "    \n"
   ]
  },
  {
   "cell_type": "markdown",
   "id": "0aa06c59-70c5-4813-bd69-8761e46f6bdd",
   "metadata": {},
   "source": [
    "### Validating UID\n",
    "\n"
   ]
  },
  {
   "cell_type": "code",
   "execution_count": null,
   "id": "e5417695-3e02-4628-b331-6378d5b0dad2",
   "metadata": {},
   "outputs": [],
   "source": [
    "import re \n",
    "T = int(input()) \n",
    "for i in range(T): \n",
    "    string = input().strip() \n",
    "    if len(string)!=10 or len(set(string))!=10 or (not string.isalnum()):\n",
    "         print(\"Invalid\") \n",
    "    elif len(re.findall(r\"[A-Z]\",string))<2 or len(re.findall(r\"[0-9]\",string))<3: \n",
    "        print(\"Invalid\") \n",
    "    else: \n",
    "        print(\"Valid\")"
   ]
  },
  {
   "cell_type": "markdown",
   "id": "002068a7-e839-45ac-8de8-089d51efb736",
   "metadata": {},
   "source": [
    "### Validating Credit Card Numbers\n",
    "\n"
   ]
  },
  {
   "cell_type": "code",
   "execution_count": null,
   "id": "ff95c6ef-6b65-4421-b8c9-afd6fada2c3e",
   "metadata": {},
   "outputs": [],
   "source": [
    "import re\n",
    "\n",
    "N = int(input())\n",
    "for _ in range(N):\n",
    "    card = input()\n",
    "    if re.search(r'^[456]', card) and re.search(r'^(-?\\d{4}){4}$', card) and not                    re.search(r'(\\d)(-?\\1){3}', card):\n",
    "        print('Valid')\n",
    "    else:\n",
    "        print('Invalid')\n"
   ]
  },
  {
   "cell_type": "markdown",
   "id": "b4f012b2-e299-4454-8e63-415382a2f7e2",
   "metadata": {},
   "source": [
    "### Validating Postal Codes\n",
    "\n"
   ]
  },
  {
   "cell_type": "code",
   "execution_count": null,
   "id": "6201fe8b-97d0-4215-9b27-e4ea5f16ac59",
   "metadata": {},
   "outputs": [],
   "source": [
    "regex_integer_in_range = r\"^[1-9][0-9]{5}$\"\n",
    "\t# Do not delete 'r'.\n",
    "regex_alternating_repetitive_digit_pair = r\"(\\d)(?=\\d\\1)\"\t# Do not delete 'r'.\n"
   ]
  },
  {
   "cell_type": "markdown",
   "id": "525f96c9-dcd4-4809-95c3-ec53a2aacaf4",
   "metadata": {},
   "source": [
    "### Matrix Script\n",
    "\n"
   ]
  },
  {
   "cell_type": "code",
   "execution_count": null,
   "id": "5b9d337f-3442-492e-9408-a89194ffb3f0",
   "metadata": {},
   "outputs": [],
   "source": [
    "#!/bin/python3\n",
    "\n",
    "import math\n",
    "import os\n",
    "import random\n",
    "import re\n",
    "import sys\n",
    "\n",
    "\n",
    "\n",
    "\n",
    "first_multiple_input = input().rstrip().split()\n",
    "\n",
    "n = int(first_multiple_input[0])\n",
    "\n",
    "m = int(first_multiple_input[1])\n",
    "\n",
    "matrix = []\n",
    "\n",
    "for _ in range(n):\n",
    "    matrix_item = input()\n",
    "    matrix.append(matrix_item)\n",
    "    a = []\n",
    "    for tupla in zip(*matrix):\n",
    "        a.append(''.join(list(tupla)))\n",
    "    s = ''.join(a)\n",
    "print(re.sub(r'(?<=\\w)([^\\w]+)(?=\\w)', \" \", s))\n",
    "\n"
   ]
  },
  {
   "cell_type": "markdown",
   "id": "ccbe8e2f-5541-4f3d-90ea-6ea60c1aa2ff",
   "metadata": {},
   "source": [
    "## - XML"
   ]
  },
  {
   "cell_type": "markdown",
   "id": "953ed581-2309-4c06-a72d-7cb22c79168d",
   "metadata": {},
   "source": [
    "### XML 1 - Find the Score\n",
    "\n"
   ]
  },
  {
   "cell_type": "code",
   "execution_count": null,
   "id": "ff485d0a-fc87-41d7-84fa-9da6c72aa2dc",
   "metadata": {},
   "outputs": [],
   "source": [
    "def get_attr_number(node):\n",
    "    somma = 0\n",
    "    for i in node.iter():\n",
    "        somma += len(i.attrib)\n",
    "    return somma\n"
   ]
  },
  {
   "cell_type": "markdown",
   "id": "cf77c2fe-837a-4130-893f-06b664ee8a3b",
   "metadata": {},
   "source": [
    "### XML2 - Find the Maximum Depth\n",
    "\n"
   ]
  },
  {
   "cell_type": "code",
   "execution_count": null,
   "id": "72b8b640-a3f0-4a00-bd52-ec322cc2b699",
   "metadata": {},
   "outputs": [],
   "source": [
    "maxdepth = 0\n",
    "def depth(elem, level):\n",
    "    global maxdepth\n",
    "    if maxdepth == level:\n",
    "        maxdepth+=1\n",
    "    for x in elem:\n",
    "        depth(x, level+1)\n",
    "    "
   ]
  },
  {
   "cell_type": "markdown",
   "id": "2b17f3af-11bb-47ea-a549-f45203e2d068",
   "metadata": {},
   "source": [
    "## - CLOSURES AND DECORATIONS"
   ]
  },
  {
   "cell_type": "markdown",
   "id": "8d23bfd1-5b45-41cd-9a4e-583b353e5cc4",
   "metadata": {},
   "source": [
    "### Standardize Mobile Number Using Decorators\n",
    "\n"
   ]
  },
  {
   "cell_type": "code",
   "execution_count": null,
   "id": "6e21f3f1-e16b-4c6b-807e-128cc2a23c78",
   "metadata": {},
   "outputs": [],
   "source": [
    "def wrapper(f):\n",
    "    def fun(l):\n",
    "        lista = []\n",
    "        for element in l:\n",
    "            lista.append('+91 '+element[-10:-5]+' '+ element[-5:])\n",
    "        return f(lista)\n",
    "    return fun"
   ]
  },
  {
   "cell_type": "markdown",
   "id": "a69e9905-1fc0-49c5-8e00-bc64e9177caf",
   "metadata": {},
   "source": [
    "### Decorators 2 - Name Directory\n",
    "\n"
   ]
  },
  {
   "cell_type": "code",
   "execution_count": null,
   "id": "cf04689d-66f7-4084-a04e-b38410be64e8",
   "metadata": {},
   "outputs": [],
   "source": [
    "def person_lister(f):\n",
    "    def inner(people):\n",
    "        for element in people:\n",
    "            element[2] = int(element[2])\n",
    "        people.sort(key= operator.itemgetter(2))\n",
    "        return map(f, people)\n",
    "    return inner\n"
   ]
  },
  {
   "cell_type": "markdown",
   "id": "67130021-68af-4a44-a43e-377370e60a41",
   "metadata": {},
   "source": [
    "## - NUMPY"
   ]
  },
  {
   "cell_type": "markdown",
   "id": "5d0d024c-e15a-41fb-842c-cfdb1baffc73",
   "metadata": {},
   "source": [
    "### Arrays"
   ]
  },
  {
   "cell_type": "code",
   "execution_count": null,
   "id": "185f1843-095c-4928-aeb9-01dafaed5c18",
   "metadata": {},
   "outputs": [],
   "source": [
    "def arrays(arr):\n",
    "    arr.reverse()\n",
    "    return numpy.array(arr, float)"
   ]
  },
  {
   "cell_type": "markdown",
   "id": "fd0bcc7b-5be0-45a2-9ff4-20e50ac1622b",
   "metadata": {},
   "source": [
    "### Shape and Reshape\n",
    "\n"
   ]
  },
  {
   "cell_type": "code",
   "execution_count": null,
   "id": "6cb68347-3295-433d-81cb-737aeb96d456",
   "metadata": {},
   "outputs": [],
   "source": [
    "import numpy\n",
    "\n",
    "lista = list(map(int,input().split()))\n",
    "my_array = numpy.array(lista, int)\n",
    "print(numpy.reshape(my_array, (3,3)))"
   ]
  },
  {
   "cell_type": "markdown",
   "id": "fe1863ca-4f25-40a5-8e16-5991c72e4863",
   "metadata": {},
   "source": [
    "### Transpose and Flatten\n",
    "\n"
   ]
  },
  {
   "cell_type": "code",
   "execution_count": null,
   "id": "eefb5e2c-5692-4a0b-a003-fd0bfe792443",
   "metadata": {},
   "outputs": [],
   "source": [
    "import numpy\n",
    "\n",
    "N,M = map(int,input().split())\n",
    "\n",
    "lista = list()\n",
    "\n",
    "for i in range(N):\n",
    "    lista.append(list(map(int, input().split())))\n",
    "arr = numpy.array(lista, int)\n",
    "\n",
    "print(numpy.transpose(arr))\n",
    "print(arr.flatten())\n"
   ]
  },
  {
   "cell_type": "markdown",
   "id": "9cb5d454-902c-40ea-84ce-8677351cb54f",
   "metadata": {},
   "source": [
    "### Concatenate\n",
    "\n"
   ]
  },
  {
   "cell_type": "code",
   "execution_count": null,
   "id": "ddeaba4a-27d9-4aaa-8972-54a2d9b157ce",
   "metadata": {},
   "outputs": [],
   "source": [
    "import numpy\n",
    "\n",
    "N,M,P = map(int, input().split())\n",
    "\n",
    "array_N = []\n",
    "array_M = []\n",
    "for i in range(N):\n",
    "    array_N.append(list(map(int, input().split())))\n",
    "for j in range(M):\n",
    "    array_M.append(list(map(int, input().split())))\n",
    "\n",
    "array1 = numpy.array(array_N, int)\n",
    "array2 = numpy.array(array_M, int) \n",
    "\n",
    "print(numpy.concatenate((array1, array2), axis = 0))    \n"
   ]
  },
  {
   "cell_type": "markdown",
   "id": "7643efce-9944-49d8-9608-45a2bf3ed7a9",
   "metadata": {},
   "source": [
    "### Zeros and Ones\n",
    "\n"
   ]
  },
  {
   "cell_type": "code",
   "execution_count": null,
   "id": "72803e5d-3452-408c-a203-764f5ce683f0",
   "metadata": {},
   "outputs": [],
   "source": [
    "import numpy\n",
    "\n",
    "shape = tuple(map(int, input().split()))\n",
    "\n",
    "print(numpy.zeros(shape, numpy.int))\n",
    "print(numpy.ones(shape, numpy.int))"
   ]
  },
  {
   "cell_type": "markdown",
   "id": "7fcb2d23-141a-4622-86d9-e1dac9f2dbe1",
   "metadata": {},
   "source": [
    "### Eye and Identity\n",
    "\n"
   ]
  },
  {
   "cell_type": "code",
   "execution_count": null,
   "id": "06579942-186e-4db6-9676-e05c337c6a66",
   "metadata": {},
   "outputs": [],
   "source": [
    "import numpy\n",
    "numpy.set_printoptions(legacy='1.13')\n",
    "\n",
    "N,M = tuple(map(int, input().split()))\n",
    "\n",
    "print(numpy.eye(N,M, k=0))"
   ]
  },
  {
   "cell_type": "markdown",
   "id": "6f197798-741e-4a48-ac52-97802c10143f",
   "metadata": {},
   "source": [
    "### Array Mathematics\n",
    "\n"
   ]
  },
  {
   "cell_type": "code",
   "execution_count": null,
   "id": "8a76ef02-d746-4893-be2a-0da10fbd2455",
   "metadata": {},
   "outputs": [],
   "source": [
    "import numpy\n",
    "\n",
    "N,M = map(int,input().split())\n",
    "\n",
    "A = numpy.array([list(map(int,input().split())) for _ in range(N)])\n",
    "B = numpy.array([list(map(int,input().split())) for _ in range(N)])\n",
    "\n",
    "print(A+B)\n",
    "print(A-B)\n",
    "print(A*B)\n",
    "print(A//B)\n",
    "print(A%B)\n",
    "print(A**B)"
   ]
  },
  {
   "cell_type": "markdown",
   "id": "addd8b19-1ec1-4976-be06-7eebc765c77a",
   "metadata": {},
   "source": [
    "### Floor, Ceil and Rint\n",
    "\n"
   ]
  },
  {
   "cell_type": "code",
   "execution_count": null,
   "id": "8c4b65a8-0f33-411f-ab6e-b2392fe86ffa",
   "metadata": {},
   "outputs": [],
   "source": [
    "import numpy\n",
    "numpy.set_printoptions(legacy='1.13')\n",
    "\n",
    "arr = numpy.array(list(map(float, input().split())), float)\n",
    "print(numpy.floor(arr))\n",
    "print(numpy.ceil(arr))\n",
    "print(numpy.rint(arr))\n"
   ]
  },
  {
   "cell_type": "markdown",
   "id": "08951d7d-eeeb-49c6-b071-e4f34653f6bf",
   "metadata": {},
   "source": [
    "### Sum and Prod\n",
    "\n"
   ]
  },
  {
   "cell_type": "code",
   "execution_count": null,
   "id": "9d0dfc85-b793-4e18-b153-42b20246a567",
   "metadata": {},
   "outputs": [],
   "source": [
    "import numpy\n",
    "N,M = map(int,input().split())\n",
    "\n",
    "A = numpy.array([list(map(int,input().split())) for _ in range(N)])\n",
    "\n",
    "s = numpy.sum(A, axis = 0)\n",
    "print(numpy.prod(s))\n"
   ]
  },
  {
   "cell_type": "markdown",
   "id": "a45fc44e-4300-4cec-80cf-0798987b30d6",
   "metadata": {},
   "source": [
    "### Min and Max\n",
    "\n"
   ]
  },
  {
   "cell_type": "code",
   "execution_count": null,
   "id": "2d6de514-7ca8-47dd-b68c-22c76d727032",
   "metadata": {},
   "outputs": [],
   "source": [
    "import numpy\n",
    "\n",
    "N,M = map(int,input().split())\n",
    "arr = numpy.array([list(map(int, input().split())) for _ in range(N)])\n",
    "\n",
    "minimo = numpy.min(arr, axis = 1)\n",
    "print(numpy.max(minimo))"
   ]
  },
  {
   "cell_type": "markdown",
   "id": "43f14095-3945-4bef-8c6a-e3b6b4cd7df5",
   "metadata": {},
   "source": [
    "### Mean, Var, and Std\n",
    "\n"
   ]
  },
  {
   "cell_type": "code",
   "execution_count": null,
   "id": "335d1dcc-0a91-4a35-915d-433a563fda53",
   "metadata": {},
   "outputs": [],
   "source": [
    "import numpy\n",
    "\n",
    "N,M = map(int,input().split())\n",
    "\n",
    "arr = numpy.array([list(map(int, input().split())) for _ in range(N)])\n",
    "\n",
    "print(numpy.mean(arr, axis = 1))\n",
    "print(numpy.var(arr, axis = 0))\n",
    "print(round(numpy.std(arr),11))"
   ]
  },
  {
   "cell_type": "markdown",
   "id": "f76c5b97-09b4-4fa7-a20b-36e98d2a9cad",
   "metadata": {},
   "source": [
    "### Dot and Cross\n",
    "\n"
   ]
  },
  {
   "cell_type": "code",
   "execution_count": null,
   "id": "9eb8afbd-d327-4ac9-8afb-5b000df8cf99",
   "metadata": {},
   "outputs": [],
   "source": [
    "import numpy\n",
    "N = int(input())\n",
    "\n",
    "A = numpy.array([list(map(int, input().split())) for _ in range(N)])\n",
    "B = numpy.array([list(map(int, input().split())) for _ in range(N)])\n",
    "\n",
    "print(numpy.dot(A,B))\n"
   ]
  },
  {
   "cell_type": "markdown",
   "id": "f3bf461f-60d6-42fa-88e7-260d9848607f",
   "metadata": {},
   "source": [
    "### Inner and Outer\n",
    "\n"
   ]
  },
  {
   "cell_type": "code",
   "execution_count": null,
   "id": "e4dbb9ea-c2ba-4ee0-baa0-4de79f6491de",
   "metadata": {},
   "outputs": [],
   "source": [
    "import numpy\n",
    "\n",
    "A = numpy.array(input().split(), int)\n",
    "B = numpy.array(input().split(), int)\n",
    "print(numpy.inner(A, B))\n",
    "print(numpy.outer(A, B))"
   ]
  },
  {
   "cell_type": "markdown",
   "id": "26c2e9e9-29d2-4334-b195-19c0574e595e",
   "metadata": {},
   "source": [
    "### Polynomials\n",
    "\n"
   ]
  },
  {
   "cell_type": "code",
   "execution_count": null,
   "id": "20047d06-9ac1-44ce-b5d2-85a4a89844c3",
   "metadata": {},
   "outputs": [],
   "source": [
    "import numpy\n",
    "\n",
    "print(numpy.polyval(numpy.array(input().split(), float),int(input())))\n"
   ]
  },
  {
   "cell_type": "markdown",
   "id": "b786b02f-760c-44dc-8f65-30a13846be54",
   "metadata": {},
   "source": [
    "### Linear Algebra"
   ]
  },
  {
   "cell_type": "code",
   "execution_count": null,
   "id": "4136103d-dbb6-4432-9b5b-107cc4135174",
   "metadata": {},
   "outputs": [],
   "source": [
    "import numpy\n",
    "N = int(input())\n",
    "A = numpy.array([list(map(float, input().split())) for _ in range(N)])\n",
    "\n",
    "print(round(numpy.linalg.det(A),2))\n"
   ]
  },
  {
   "cell_type": "markdown",
   "id": "bf033277-ea27-4984-8ff4-9fd9052d1786",
   "metadata": {},
   "source": [
    "## Problem 2"
   ]
  },
  {
   "cell_type": "markdown",
   "id": "0b809c1d-0550-4ee9-bbf7-24caf36511f9",
   "metadata": {},
   "source": [
    "### Birthday Cake Candles\n",
    "\n"
   ]
  },
  {
   "cell_type": "code",
   "execution_count": null,
   "id": "fb1cef50-f253-4bcf-9b74-c932f6aee25e",
   "metadata": {},
   "outputs": [],
   "source": [
    "#!/bin/python3\n",
    "\n",
    "import math\n",
    "import os\n",
    "import random\n",
    "import re\n",
    "import sys\n",
    "\n",
    "\n",
    "def birthdayCakeCandles(candles):\n",
    "    mas = 0\n",
    "    counter = 0\n",
    "    for i in candles:\n",
    "        if i> mas:\n",
    "            mas = i\n",
    "    for b in candles:\n",
    "        if b == mas:\n",
    "            counter += 1\n",
    "    return counter\n",
    "            \n",
    "\n",
    "if __name__ == '__main__':\n",
    "    fptr = open(os.environ['OUTPUT_PATH'], 'w')\n",
    "\n",
    "    candles_count = int(input().strip())\n",
    "\n",
    "    candles = list(map(int, input().rstrip().split()))\n",
    "\n",
    "    result = birthdayCakeCandles(candles)\n",
    "\n",
    "    fptr.write(str(result) + '\\n')\n",
    "\n",
    "    fptr.close()\n"
   ]
  },
  {
   "cell_type": "markdown",
   "id": "ecf94219-d21a-4f63-a7b5-c0efabff3165",
   "metadata": {},
   "source": [
    "### Number Line Jumps\n",
    "\n"
   ]
  },
  {
   "cell_type": "code",
   "execution_count": null,
   "id": "cfe23af9-a9b7-485d-b183-44fccff8cdeb",
   "metadata": {},
   "outputs": [],
   "source": [
    "#!/bin/python3\n",
    "\n",
    "import math\n",
    "import os\n",
    "import random\n",
    "import re\n",
    "import sys\n",
    "\n",
    "#\n",
    "# Complete the 'kangaroo' function below.\n",
    "#\n",
    "# The function is expected to return a STRING.\n",
    "# The function accepts following parameters:\n",
    "#  1. INTEGER x1\n",
    "#  2. INTEGER v1\n",
    "#  3. INTEGER x2\n",
    "#  4. INTEGER v2\n",
    "#\n",
    "def kangaroo(x1, v1, x2, v2):\n",
    "    if v2 < v1 and (x2 - x1) % (v1 - v2) == 0:\n",
    "         return \"YES\"\n",
    "    else:\n",
    "        return \"NO\"\n",
    "\n",
    "if __name__ == '__main__':\n",
    "    fptr = open(os.environ['OUTPUT_PATH'], 'w')\n",
    "\n",
    "    first_multiple_input = input().rstrip().split()\n",
    "\n",
    "    x1 = int(first_multiple_input[0])\n",
    "\n",
    "    v1 = int(first_multiple_input[1])\n",
    "\n",
    "    x2 = int(first_multiple_input[2])\n",
    "\n",
    "    v2 = int(first_multiple_input[3])\n",
    "\n",
    "    result = kangaroo(x1, v1, x2, v2)\n",
    "\n",
    "    fptr.write(result + '\\n')\n",
    "\n",
    "    fptr.close()\n"
   ]
  },
  {
   "cell_type": "markdown",
   "id": "0fa1722e-6598-4f79-a00d-829d37429a2a",
   "metadata": {},
   "source": [
    "### Viral Advertising\n",
    "\n"
   ]
  },
  {
   "cell_type": "code",
   "execution_count": null,
   "id": "95e0ef7c-6dc9-483d-88fa-d9f5f3fcede4",
   "metadata": {},
   "outputs": [],
   "source": [
    "#!/bin/python3\n",
    "\n",
    "import math\n",
    "import os\n",
    "import random\n",
    "import re\n",
    "import sys\n",
    "\n",
    "#\n",
    "# Complete the 'viralAdvertising' function below.\n",
    "#\n",
    "# The function is expected to return an INTEGER.\n",
    "# The function accepts INTEGER n as parameter.\n",
    "#\n",
    "\n",
    "def viralAdvertising(n):\n",
    "    people = 5\n",
    "    somma = 0\n",
    "    for i in range(n):\n",
    "        somma += math.floor(people/2)\n",
    "        people = math.floor(people/2)*3\n",
    "    return somma\n",
    "    # Write your code here\n",
    "\n",
    "if __name__ == '__main__':\n",
    "    fptr = open(os.environ['OUTPUT_PATH'], 'w')\n",
    "\n",
    "    n = int(input().strip())\n",
    "\n",
    "    result = viralAdvertising(n)\n",
    "\n",
    "    fptr.write(str(result) + '\\n')\n",
    "\n",
    "    fptr.close()\n"
   ]
  },
  {
   "cell_type": "markdown",
   "id": "bfd4763f-20ff-42c6-8845-4d8de1ebd32e",
   "metadata": {},
   "source": [
    "### Recursive Digit Sum\n",
    "\n"
   ]
  },
  {
   "cell_type": "code",
   "execution_count": null,
   "id": "c5a7e27d-0c14-423c-821d-7cf6b0edc59b",
   "metadata": {},
   "outputs": [],
   "source": [
    "#!/bin/python3\n",
    "\n",
    "import math\n",
    "import os\n",
    "import random\n",
    "import re\n",
    "import sys\n",
    "\n",
    "#\n",
    "# Complete the 'superDigit' function below.\n",
    "#\n",
    "# The function is expected to return an INTEGER.\n",
    "# The function accepts following parameters:\n",
    "#  1. STRING n\n",
    "#  2. INTEGER k\n",
    "#\n",
    "\n",
    "def superDigit(n, k):\n",
    "    s = str(eval(\"+\".join(list(n)))*k)\n",
    "    if len(s) == 1:\n",
    "        return s\n",
    "    else:\n",
    "        return superDigit(s, 1)\n",
    "    # Write your code here\n",
    "\n",
    "if __name__ == '__main__':\n",
    "    fptr = open(os.environ['OUTPUT_PATH'], 'w')\n",
    "\n",
    "    first_multiple_input = input().rstrip().split()\n",
    "\n",
    "    n = first_multiple_input[0]\n",
    "\n",
    "    k = int(first_multiple_input[1])\n",
    "\n",
    "    result = superDigit(n, k)\n",
    "\n",
    "    fptr.write(str(result) + '\\n')\n",
    "\n",
    "    fptr.close()\n"
   ]
  },
  {
   "cell_type": "markdown",
   "id": "4f66f72d-d6c8-4dac-bd6e-82aedd0a9c9c",
   "metadata": {},
   "source": [
    "### Insertion Sort - Part 1"
   ]
  },
  {
   "cell_type": "code",
   "execution_count": null,
   "id": "48026a7e-f1f1-4ba2-b964-252ee84aa5d3",
   "metadata": {},
   "outputs": [],
   "source": [
    "#!/bin/python3\n",
    "\n",
    "import math\n",
    "import os\n",
    "import random\n",
    "import re\n",
    "import sys\n",
    "\n",
    "#\n",
    "# Complete the 'insertionSort1' function below.\n",
    "#\n",
    "# The function accepts following parameters:\n",
    "#  1. INTEGER n\n",
    "#  2. INTEGER_ARRAY arr\n",
    "#\n",
    "\n",
    "def insertionSort1(n, arr):\n",
    "    value = arr[-1]\n",
    "    for i in range(n-1,-1,-1):\n",
    "        pos = i\n",
    "        if pos > 0 and arr[pos-1] > value:\n",
    "            arr[pos] = arr[pos-1]\n",
    "            print(*arr)\n",
    "        else:\n",
    "            arr[pos] = value\n",
    "            print(*arr)\n",
    "            break\n",
    "\n",
    "        \n",
    "    # Write your code here\n",
    "\n",
    "if __name__ == '__main__':\n",
    "    n = int(input().strip())\n",
    "\n",
    "    arr = list(map(int, input().rstrip().split()))\n",
    "\n",
    "    insertionSort1(n, arr)\n"
   ]
  },
  {
   "cell_type": "markdown",
   "id": "fbe133df-a886-4045-8695-1291931a7e26",
   "metadata": {},
   "source": [
    "### Insertion Sort - Part 2\n",
    "\n"
   ]
  },
  {
   "cell_type": "code",
   "execution_count": null,
   "id": "6b438d2a-4dbe-4ae8-bcb8-dddcc9abc1aa",
   "metadata": {},
   "outputs": [],
   "source": [
    "#!/bin/python3\n",
    "\n",
    "import math\n",
    "import os\n",
    "import random\n",
    "import re\n",
    "import sys\n",
    "\n",
    "#\n",
    "# Complete the 'insertionSort2' function below.\n",
    "#\n",
    "# The function accepts following parameters:\n",
    "#  1. INTEGER n\n",
    "#  2. INTEGER_ARRAY arr\n",
    "#\n",
    "\n",
    "def insertionSort2(n, arr):\n",
    "    for i in range(1, n):\n",
    "        value = arr[i]\n",
    "        pos = i\n",
    "        while pos > 0 and value < arr[pos -1]:\n",
    "            arr[pos] = arr[pos-1]\n",
    "            pos -= 1\n",
    "        arr[pos] = value\n",
    "        print(*arr)\n",
    "    \n",
    "\n",
    "if __name__ == '__main__':\n",
    "    n = int(input().strip())\n",
    "\n",
    "    arr = list(map(int, input().rstrip().split()))\n",
    "\n",
    "    insertionSort2(n, arr)\n"
   ]
  }
 ],
 "metadata": {
  "kernelspec": {
   "display_name": "Python 3 (ipykernel)",
   "language": "python",
   "name": "python3"
  },
  "language_info": {
   "codemirror_mode": {
    "name": "ipython",
    "version": 3
   },
   "file_extension": ".py",
   "mimetype": "text/x-python",
   "name": "python",
   "nbconvert_exporter": "python",
   "pygments_lexer": "ipython3",
   "version": "3.10.2"
  }
 },
 "nbformat": 4,
 "nbformat_minor": 5
}
